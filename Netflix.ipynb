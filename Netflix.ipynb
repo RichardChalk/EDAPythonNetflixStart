{
 "cells": [
  {
   "cell_type": "code",
   "execution_count": null,
   "metadata": {},
   "outputs": [],
   "source": [
    "import pandas as pd\n",
    "import numpy as np\n",
    "import matplotlib.pyplot as plt\n",
    "import seaborn as sns\n",
    "df = pd.read_csv('netflix_titles.csv')"
   ]
  },
  {
   "cell_type": "code",
   "execution_count": null,
   "metadata": {},
   "outputs": [],
   "source": [
    "# fr1. Visa info om datat...\n",
    "# tex. kolonner, datatype, antal värden, etc.\n",
    "df.xxxx()"
   ]
  },
  {
   "cell_type": "code",
   "execution_count": null,
   "metadata": {},
   "outputs": [],
   "source": [
    "# fr2. Kolla om det finns dubbletter...\n",
    "# Ska returnera 0 (Googla!)\n",
    "\n",
    "df.duplicated().xxx()"
   ]
  },
  {
   "cell_type": "code",
   "execution_count": null,
   "metadata": {},
   "outputs": [],
   "source": [
    "# fr3. Visa alla unika årtal\n",
    "df[\"release_year\"].xxxxxx()"
   ]
  },
  {
   "cell_type": "code",
   "execution_count": null,
   "metadata": {},
   "outputs": [],
   "source": [
    "# fr4. Visa hur många poster det finns i varje årtal\n",
    "df[\"release_year\"].xxxxx_xxxxxx()"
   ]
  },
  {
   "cell_type": "code",
   "execution_count": null,
   "metadata": {},
   "outputs": [],
   "source": [
    "# fr5. Kolla efter NULL i varje kolumn (Googla!)\n",
    "df.xxxxxx().sum()"
   ]
  },
  {
   "cell_type": "code",
   "execution_count": null,
   "metadata": {},
   "outputs": [],
   "source": [
    "# fr6. Jag vill skapa en ny dataframe som innehåller data endast från 2018 och framåt\n",
    "# Visa de första 5 poster...\n",
    "df2 = df[df['xxxxxxx_xxxx'] >= 2018]\n",
    "df2.xxxx()"
   ]
  },
  {
   "cell_type": "code",
   "execution_count": null,
   "metadata": {},
   "outputs": [],
   "source": [
    "# fr7. Jag vill skapa en till ny data set filtrerad ytterligare... \n",
    "# Utöver att releaase_year ska vara 2018 eller nyare...\n",
    "# ska land vara endast Sweden!\n",
    "# Visa de sista 5 poster...\n",
    "df3 = df2[df2['xxxxxxx'] == 'xxxxxx']\n",
    "df3.xxxx()"
   ]
  },
  {
   "cell_type": "code",
   "execution_count": null,
   "metadata": {},
   "outputs": [],
   "source": [
    "# fr8. Visa hur många data poster det finns i din filtrerade data set\n",
    "df3.xxxx()"
   ]
  },
  {
   "cell_type": "code",
   "execution_count": null,
   "metadata": {},
   "outputs": [],
   "source": [
    "# Från och med nu tittar vi på HELA data set igen!\n",
    "\n",
    "# fr9. Skapa en box plot på hela data set... \n",
    "# det finns endast en kolumn som är numerisk (release_year).\n",
    "df.xxxxxxx()"
   ]
  },
  {
   "cell_type": "code",
   "execution_count": null,
   "metadata": {},
   "outputs": [],
   "source": [
    "# fr10a. Visa i text de unika katergorier i kolumnen 'type'\n",
    "df[\"type\"].xxxxxx()"
   ]
  },
  {
   "cell_type": "code",
   "execution_count": null,
   "metadata": {},
   "outputs": [],
   "source": [
    "# fr10b. Visa som histogram de unika katergorier i kolumnen 'type'\n",
    "df['type'].xxxxx_xxxxxx().plot(kind='xxx')\n",
    "plt.xxxx()\n"
   ]
  }
 ],
 "metadata": {
  "kernelspec": {
   "display_name": "Python 3",
   "language": "python",
   "name": "python3"
  },
  "language_info": {
   "codemirror_mode": {
    "name": "ipython",
    "version": 3
   },
   "file_extension": ".py",
   "mimetype": "text/x-python",
   "name": "python",
   "nbconvert_exporter": "python",
   "pygments_lexer": "ipython3",
   "version": "3.12.1"
  }
 },
 "nbformat": 4,
 "nbformat_minor": 2
}
